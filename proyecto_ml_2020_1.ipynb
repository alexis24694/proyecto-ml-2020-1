{
  "nbformat": 4,
  "nbformat_minor": 0,
  "metadata": {
    "colab": {
      "name": "proyecto-ml-2020-1.ipynb",
      "provenance": [],
      "authorship_tag": "ABX9TyNDEMmIYsW5PSqVsdYDffx/",
      "include_colab_link": true
    },
    "kernelspec": {
      "name": "python3",
      "display_name": "Python 3"
    }
  },
  "cells": [
    {
      "cell_type": "markdown",
      "metadata": {
        "id": "view-in-github",
        "colab_type": "text"
      },
      "source": [
        "<a href=\"https://colab.research.google.com/github/alexis24694/proyecto-ml-2020-1/blob/master/proyecto_ml_2020_1.ipynb\" target=\"_parent\"><img src=\"https://colab.research.google.com/assets/colab-badge.svg\" alt=\"Open In Colab\"/></a>"
      ]
    },
    {
      "cell_type": "code",
      "metadata": {
        "id": "ZXtAsrroQiMP",
        "colab_type": "code",
        "colab": {
          "base_uri": "https://localhost:8080/",
          "height": 70
        },
        "outputId": "b1c5542e-b513-4f9e-8255-a53ef75f310e"
      },
      "source": [
        "#Importando las librerias necesarias para la experimentacion\n",
        "import numpy as np\n",
        "import pandas as pd \n",
        "import seaborn as sns\n",
        "import matplotlib.pyplot as plt\n",
        "import sklearn as sk"
      ],
      "execution_count": null,
      "outputs": [
        {
          "output_type": "stream",
          "text": [
            "/usr/local/lib/python3.6/dist-packages/statsmodels/tools/_testing.py:19: FutureWarning: pandas.util.testing is deprecated. Use the functions in the public API at pandas.testing instead.\n",
            "  import pandas.util.testing as tm\n"
          ],
          "name": "stderr"
        }
      ]
    },
    {
      "cell_type": "code",
      "metadata": {
        "id": "uU7tM85yOUSP",
        "colab_type": "code",
        "colab": {
          "base_uri": "https://localhost:8080/",
          "height": 322
        },
        "outputId": "ce817477-b730-47b8-8b3a-07ec8a734490"
      },
      "source": [
        "# Descargar el dataset de un archivo subido al drive mediante su ID\n",
        "!wget -O Data_Cortex_Nuclear.csv \"https://drive.google.com/uc?id=1NDjOlxkHDEBQ08SlO1EAPDPeoISjsY05&export=download\""
      ],
      "execution_count": null,
      "outputs": [
        {
          "output_type": "stream",
          "text": [
            "--2020-07-05 23:09:50--  https://drive.google.com/uc?id=1NDjOlxkHDEBQ08SlO1EAPDPeoISjsY05&export=download\n",
            "Resolving drive.google.com (drive.google.com)... 64.233.189.138, 64.233.189.101, 64.233.189.100, ...\n",
            "Connecting to drive.google.com (drive.google.com)|64.233.189.138|:443... connected.\n",
            "HTTP request sent, awaiting response... 302 Moved Temporarily\n",
            "Location: https://doc-0k-5k-docs.googleusercontent.com/docs/securesc/ha0ro937gcuc7l7deffksulhg5h7mbp1/7k0595depkjd2spqf7pdcshsblec49sp/1593990525000/07257263427831096354/*/1NDjOlxkHDEBQ08SlO1EAPDPeoISjsY05?e=download [following]\n",
            "Warning: wildcards not supported in HTTP.\n",
            "--2020-07-05 23:09:51--  https://doc-0k-5k-docs.googleusercontent.com/docs/securesc/ha0ro937gcuc7l7deffksulhg5h7mbp1/7k0595depkjd2spqf7pdcshsblec49sp/1593990525000/07257263427831096354/*/1NDjOlxkHDEBQ08SlO1EAPDPeoISjsY05?e=download\n",
            "Resolving doc-0k-5k-docs.googleusercontent.com (doc-0k-5k-docs.googleusercontent.com)... 64.233.188.132, 2404:6800:4008:c06::84\n",
            "Connecting to doc-0k-5k-docs.googleusercontent.com (doc-0k-5k-docs.googleusercontent.com)|64.233.188.132|:443... connected.\n",
            "HTTP request sent, awaiting response... 200 OK\n",
            "Length: 1011691 (988K) [text/csv]\n",
            "Saving to: ‘Data_Cortex_Nuclear.csv’\n",
            "\n",
            "Data_Cortex_Nuclear 100%[===================>] 987.98K  --.-KB/s    in 0.01s   \n",
            "\n",
            "2020-07-05 23:09:51 (97.9 MB/s) - ‘Data_Cortex_Nuclear.csv’ saved [1011691/1011691]\n",
            "\n"
          ],
          "name": "stdout"
        }
      ]
    },
    {
      "cell_type": "code",
      "metadata": {
        "id": "JGN_uPM9bdxU",
        "colab_type": "code",
        "colab": {}
      },
      "source": [
        "#Cargando el archivo a un dataframe\n",
        "data = pd.read_csv('Data_Cortex_Nuclear.csv')"
      ],
      "execution_count": 47,
      "outputs": []
    },
    {
      "cell_type": "code",
      "metadata": {
        "id": "2rc7aRgHQx2W",
        "colab_type": "code",
        "colab": {
          "base_uri": "https://localhost:8080/",
          "height": 34
        },
        "outputId": "ad95e52f-70a6-42a8-ff97-9ae7da7b9f43"
      },
      "source": [
        "data.shape"
      ],
      "execution_count": 66,
      "outputs": [
        {
          "output_type": "execute_result",
          "data": {
            "text/plain": [
              "(1080, 82)"
            ]
          },
          "metadata": {
            "tags": []
          },
          "execution_count": 66
        }
      ]
    },
    {
      "cell_type": "code",
      "metadata": {
        "id": "LG3XQWRXTiLF",
        "colab_type": "code",
        "colab": {
          "base_uri": "https://localhost:8080/",
          "height": 346
        },
        "outputId": "fd220a4b-015c-4da5-c351-76464285ffeb"
      },
      "source": [
        "#Visualizando un mapa de calor de los datos nulos\n",
        "sns.heatmap(data.isnull(), cbar=False)"
      ],
      "execution_count": 9,
      "outputs": [
        {
          "output_type": "execute_result",
          "data": {
            "text/plain": [
              "<matplotlib.axes._subplots.AxesSubplot at 0x7f67c58e8860>"
            ]
          },
          "metadata": {
            "tags": []
          },
          "execution_count": 9
        },
        {
          "output_type": "display_data",
          "data": {
            "image/png": "[encoded data removed]",
            "text/plain": [
              "<Figure size 432x288 with 1 Axes>"
            ]
          },
          "metadata": {
            "tags": [],
            "needs_background": "light"
          }
        }
      ]
    },
    {
      "cell_type": "code",
      "metadata": {
        "id": "HdNhKkqpT-9S",
        "colab_type": "code",
        "colab": {
          "base_uri": "https://localhost:8080/",
          "height": 34
        },
        "outputId": "4bba8c47-6b07-43be-e358-b1755e1204da"
      },
      "source": [
        "#Calculando el porcentaje de valores nulos\n",
        "null_percentages = data.isnull().sum(axis=0) / data.shape[0]\n",
        "\n",
        "#Considerando un umbral de 20%\n",
        "threshold = 0.2\n",
        "\n",
        "#Se tienen 2 columnas que superan el umbral de valores nulos\n",
        "null_percentages[null_percentages > threshold]\n",
        "\n",
        "#Eliminando las columnas cuyo umbral supera el 20%\n",
        "data = data.loc[:, data.isnull().sum() < 0.2*data.shape[0]]"
      ],
      "execution_count": 86,
      "outputs": [
        {
          "output_type": "execute_result",
          "data": {
            "text/plain": [
              "Series([], dtype: float64)"
            ]
          },
          "metadata": {
            "tags": []
          },
          "execution_count": 86
        }
      ]
    }
  ]
}